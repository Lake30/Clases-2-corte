{
 "cells": [
  {
   "cell_type": "code",
   "execution_count": 31,
   "metadata": {},
   "outputs": [],
   "source": [
    "import math as m\n",
    "import matplotlib.pyplot as plt"
   ]
  },
  {
   "cell_type": "markdown",
   "metadata": {},
   "source": [
    "# Punto 1\n",
    "A partir de la clase Punto, cree la clase Camino que se conforma de un arreglo de 10 puntos. Esta clase debe ser capaz de calcular la distancia total recorrida del camino (sumatoria de distancias entre cada par de puntos en la secuencia) y la distancia absoluta entre el primero y el último punto."
   ]
  },
  {
   "cell_type": "code",
   "execution_count": 32,
   "metadata": {},
   "outputs": [],
   "source": [
    "class Punto:\n",
    "    def __init__(self, x, y):\n",
    "        self.x = x\n",
    "        self.y = y\n",
    "\n",
    "    def distancia(self, p2):\n",
    "        return m.sqrt((self.x - p2.x)**2 + (self.y - p2.y)**2)\n",
    "\n",
    "    def draw(self, c = 'b'):\n",
    "        plt.scatter(self.x, self.y, c=c)\n",
    "\n",
    "class Camino:\n",
    "    def __init__(self, camino: list[Punto]):\n",
    "        self.puntos = camino\n",
    "\n",
    "    def distancia_total(self):\n",
    "        distancia = 0\n",
    "        for i in range(len(self.puntos)):\n",
    "            try: \n",
    "                distancia += self.puntos[i].distancia(self.puntos[i + 1])\n",
    "            except: pass\n",
    "        return distancia\n",
    "    \n",
    "    def distancia_puntas(self):\n",
    "        return self.puntos[0].distancia(self.puntos[-1])\n",
    "\n",
    "    \n",
    "    "
   ]
  },
  {
   "cell_type": "code",
   "execution_count": 33,
   "metadata": {},
   "outputs": [
    {
     "name": "stdout",
     "output_type": "stream",
     "text": [
      "3.0\n"
     ]
    }
   ],
   "source": [
    "camino = Camino([Punto(0,0), Punto(1,0), Punto(1,1), Punto(0,1)])\n",
    "print(camino.distancia_total())"
   ]
  },
  {
   "cell_type": "code",
   "execution_count": 34,
   "metadata": {},
   "outputs": [
    {
     "name": "stdout",
     "output_type": "stream",
     "text": [
      "1.0\n"
     ]
    }
   ],
   "source": [
    "print(camino.distancia_puntas())"
   ]
  },
  {
   "cell_type": "markdown",
   "metadata": {},
   "source": [
    "# Punto 2\n",
    "En la clase Rectángulo, debe implementar la función que retorna si un punto está dentro del rectángulo o no.\n",
    "\n"
   ]
  },
  {
   "cell_type": "code",
   "execution_count": 35,
   "metadata": {},
   "outputs": [],
   "source": [
    "class Rectangulo:\n",
    "    def __init__(self, p0:Punto, p1:Punto, p2:Punto, p3:Punto):\n",
    "        self.p0 = p0\n",
    "        self.p1 = p1\n",
    "        self.p2 = p2\n",
    "        self.p3 = p3\n",
    "        self.pts = [self.p0,\n",
    "                    self.p1,\n",
    "                    self.p2,\n",
    "                    self.p3]\n",
    "    \n",
    "    def en_rectangulo(self, pt:Punto):\n",
    "        return self.p0.x < pt.x < self.p1.x and self.p2.y < pt.y < self.p1.y\n",
    "\n",
    "    def draw(self):\n",
    "        for p in self.pts:\n",
    "            p.draw(c = \"r\")\n"
   ]
  },
  {
   "cell_type": "code",
   "execution_count": 39,
   "metadata": {},
   "outputs": [
    {
     "name": "stdout",
     "output_type": "stream",
     "text": [
      "False\n"
     ]
    }
   ],
   "source": [
    "r = Rectangulo(Punto(0,0), Punto(1,0), Punto(1,-1), Punto(0,-1))\n",
    "p = Punto(0.5, -1.5)\n",
    "print(r.en_rectangulo(p))"
   ]
  },
  {
   "cell_type": "code",
   "execution_count": 40,
   "metadata": {},
   "outputs": [
    {
     "data": {
      "image/png": "[encoded data removed]",
      "text/plain": [
       "<Figure size 800x800 with 1 Axes>"
      ]
     },
     "metadata": {},
     "output_type": "display_data"
    }
   ],
   "source": [
    "plt.figure(figsize=(8,8))\n",
    "r.draw()\n",
    "p.draw('b')\n",
    "\n",
    "plt.show()"
   ]
  }
 ],
 "metadata": {
  "kernelspec": {
   "display_name": ".venv",
   "language": "python",
   "name": "python3"
  },
  "language_info": {
   "codemirror_mode": {
    "name": "ipython",
    "version": 3
   },
   "file_extension": ".py",
   "mimetype": "text/x-python",
   "name": "python",
   "nbconvert_exporter": "python",
   "pygments_lexer": "ipython3",
   "version": "3.10.4"
  }
 },
 "nbformat": 4,
 "nbformat_minor": 2
}
